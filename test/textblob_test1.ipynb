{
 "cells": [
  {
   "cell_type": "markdown",
   "metadata": {},
   "source": [
    "TextBlobでの感情分析に関するテストコード  \n",
    "Driverless AI Recipe（[sentiment_score.py](https://github.com/h2oai/driverlessai-recipes/blob/dai-1.9/data/nlp/sentiment_score.py)）カスタマイズの参考"
   ]
  },
  {
   "cell_type": "markdown",
   "metadata": {},
   "source": [
    "TextBlob Document:  \n",
    "[Official](https://textblob.readthedocs.io/en/dev/#)  \n",
    "[Official - API](https://textblob.readthedocs.io/en/dev/api_reference.html)  \n",
    "  \n",
    "Blog  \n",
    "[【python】テキスト処理に使えるTextBlobを使う](https://qiita.com/yasutaka_ono/items/6a565c333995d43918ff)"
   ]
  },
  {
   "cell_type": "code",
   "execution_count": 3,
   "metadata": {},
   "outputs": [],
   "source": [
    "import pandas as pd\n",
    "from textblob import TextBlob"
   ]
  },
  {
   "cell_type": "code",
   "execution_count": 4,
   "metadata": {},
   "outputs": [
    {
     "data": {
      "text/plain": [
       "(30, 5)"
      ]
     },
     "execution_count": 4,
     "metadata": {},
     "output_type": "execute_result"
    }
   ],
   "source": [
    "df = pd.read_csv(\"test_data/T15-2020-1-7-SAMPLE.csv\")\n",
    "df.shape"
   ]
  },
  {
   "cell_type": "code",
   "execution_count": 5,
   "metadata": {},
   "outputs": [
    {
     "data": {
      "text/html": [
       "<div>\n",
       "<style scoped>\n",
       "    .dataframe tbody tr th:only-of-type {\n",
       "        vertical-align: middle;\n",
       "    }\n",
       "\n",
       "    .dataframe tbody tr th {\n",
       "        vertical-align: top;\n",
       "    }\n",
       "\n",
       "    .dataframe thead th {\n",
       "        text-align: right;\n",
       "    }\n",
       "</style>\n",
       "<table border=\"1\" class=\"dataframe\">\n",
       "  <thead>\n",
       "    <tr style=\"text-align: right;\">\n",
       "      <th></th>\n",
       "      <th>ID</th>\n",
       "      <th>JP_Original</th>\n",
       "      <th>JP_Simple</th>\n",
       "      <th>EN_Original</th>\n",
       "      <th>Negative</th>\n",
       "    </tr>\n",
       "  </thead>\n",
       "  <tbody>\n",
       "    <tr>\n",
       "      <th>0</th>\n",
       "      <td>1</td>\n",
       "      <td>誰が一番に着くか私には分かりません。</td>\n",
       "      <td>誰が一番に着くか私には分かりません。</td>\n",
       "      <td>i can 't tell who will arrive first .</td>\n",
       "      <td>1</td>\n",
       "    </tr>\n",
       "    <tr>\n",
       "      <th>1</th>\n",
       "      <td>2</td>\n",
       "      <td>多くの動物が人間によって滅ぼされた。</td>\n",
       "      <td>多くの動物が人間によって殺された。</td>\n",
       "      <td>many animals have been destroyed by men .</td>\n",
       "      <td>1</td>\n",
       "    </tr>\n",
       "    <tr>\n",
       "      <th>2</th>\n",
       "      <td>3</td>\n",
       "      <td>私はテニス部員です。</td>\n",
       "      <td>私はテニス部員です。</td>\n",
       "      <td>i 'm in the tennis club .</td>\n",
       "      <td>0</td>\n",
       "    </tr>\n",
       "    <tr>\n",
       "      <th>3</th>\n",
       "      <td>4</td>\n",
       "      <td>エミは幸せそうに見えます。</td>\n",
       "      <td>エミは幸せそうに見えます。</td>\n",
       "      <td>emi looks happy .</td>\n",
       "      <td>0</td>\n",
       "    </tr>\n",
       "    <tr>\n",
       "      <th>4</th>\n",
       "      <td>5</td>\n",
       "      <td>この事実を心に留めておいて下さい。</td>\n",
       "      <td>この事実を覚えておいてください。</td>\n",
       "      <td>please bear this fact in mind .</td>\n",
       "      <td>0</td>\n",
       "    </tr>\n",
       "  </tbody>\n",
       "</table>\n",
       "</div>"
      ],
      "text/plain": [
       "   ID         JP_Original           JP_Simple  \\\n",
       "0   1  誰が一番に着くか私には分かりません。  誰が一番に着くか私には分かりません。   \n",
       "1   2  多くの動物が人間によって滅ぼされた。   多くの動物が人間によって殺された。   \n",
       "2   3          私はテニス部員です。          私はテニス部員です。   \n",
       "3   4       エミは幸せそうに見えます。       エミは幸せそうに見えます。   \n",
       "4   5   この事実を心に留めておいて下さい。    この事実を覚えておいてください。   \n",
       "\n",
       "                                 EN_Original  Negative  \n",
       "0      i can 't tell who will arrive first .         1  \n",
       "1  many animals have been destroyed by men .         1  \n",
       "2                  i 'm in the tennis club .         0  \n",
       "3                          emi looks happy .         0  \n",
       "4            please bear this fact in mind .         0  "
      ]
     },
     "execution_count": 5,
     "metadata": {},
     "output_type": "execute_result"
    }
   ],
   "source": [
    "df.head()"
   ]
  },
  {
   "cell_type": "code",
   "execution_count": 8,
   "metadata": {},
   "outputs": [
    {
     "data": {
      "text/plain": [
       "'誰が一番に着くか私には分かりません。'"
      ]
     },
     "execution_count": 8,
     "metadata": {},
     "output_type": "execute_result"
    }
   ],
   "source": [
    "sample_jp = df[\"JP_Original\"][0]\n",
    "sample_jp"
   ]
  },
  {
   "cell_type": "code",
   "execution_count": 9,
   "metadata": {},
   "outputs": [
    {
     "data": {
      "text/plain": [
       "\"i can 't tell who will arrive first .\""
      ]
     },
     "execution_count": 9,
     "metadata": {},
     "output_type": "execute_result"
    }
   ],
   "source": [
    "sample_en = df[\"EN_Original\"][0]\n",
    "sample_en"
   ]
  },
  {
   "cell_type": "code",
   "execution_count": 10,
   "metadata": {},
   "outputs": [
    {
     "data": {
      "text/plain": [
       "TextBlob(\"I don't know who will arrive first.\")"
      ]
     },
     "execution_count": 10,
     "metadata": {},
     "output_type": "execute_result"
    }
   ],
   "source": [
    "# translate to English\n",
    "TextBlob(sample_jp).translate(to='en')"
   ]
  },
  {
   "cell_type": "code",
   "execution_count": 11,
   "metadata": {},
   "outputs": [
    {
     "data": {
      "text/plain": [
       "TextBlob(\"誰が最初に到着するのかわかりません。\")"
      ]
     },
     "execution_count": 11,
     "metadata": {},
     "output_type": "execute_result"
    }
   ],
   "source": [
    "# translate to Japanese\n",
    "TextBlob(sample_en).translate(to='ja')"
   ]
  },
  {
   "cell_type": "code",
   "execution_count": 12,
   "metadata": {},
   "outputs": [
    {
     "data": {
      "text/plain": [
       "'en'"
      ]
     },
     "execution_count": 12,
     "metadata": {},
     "output_type": "execute_result"
    }
   ],
   "source": [
    "TextBlob(\"Hello my friend.\").detect_language()"
   ]
  },
  {
   "cell_type": "code",
   "execution_count": 13,
   "metadata": {},
   "outputs": [
    {
     "data": {
      "text/plain": [
       "'ja'"
      ]
     },
     "execution_count": 13,
     "metadata": {},
     "output_type": "execute_result"
    }
   ],
   "source": [
    "TextBlob(\"彼はFriendのことがLoveだ。\").detect_language()"
   ]
  },
  {
   "cell_type": "code",
   "execution_count": 14,
   "metadata": {},
   "outputs": [
    {
     "data": {
      "text/plain": [
       "'ja'"
      ]
     },
     "execution_count": 14,
     "metadata": {},
     "output_type": "execute_result"
    }
   ],
   "source": [
    "TextBlob(\"彼はFriendのことがLoveだ。But not in the past.\").detect_language()"
   ]
  },
  {
   "cell_type": "code",
   "execution_count": 15,
   "metadata": {},
   "outputs": [
    {
     "data": {
      "text/plain": [
       "TextBlob(\"He loves Friend. But not in the past.\")"
      ]
     },
     "execution_count": 15,
     "metadata": {},
     "output_type": "execute_result"
    }
   ],
   "source": [
    "TextBlob(\"彼はFriendのことがLoveだ。But not in the past.\").translate(to='en')"
   ]
  },
  {
   "cell_type": "code",
   "execution_count": 16,
   "metadata": {},
   "outputs": [
    {
     "data": {
      "text/plain": [
       "'ja'"
      ]
     },
     "execution_count": 16,
     "metadata": {},
     "output_type": "execute_result"
    }
   ],
   "source": [
    "TextBlob(\"Not in the past. But,彼はFriendのことがLoveだ。\").detect_language()"
   ]
  },
  {
   "cell_type": "code",
   "execution_count": 17,
   "metadata": {},
   "outputs": [
    {
     "data": {
      "text/plain": [
       "TextBlob(\"Not in the past. But, he loves Friend.\")"
      ]
     },
     "execution_count": 17,
     "metadata": {},
     "output_type": "execute_result"
    }
   ],
   "source": [
    "TextBlob(\"Not in the past. But,彼はFriendのことがLoveだ。\").translate(to='en')"
   ]
  },
  {
   "cell_type": "code",
   "execution_count": 18,
   "metadata": {
    "scrolled": false
   },
   "outputs": [
    {
     "data": {
      "text/plain": [
       "WordList(['i', 'can', \"'t\", 'tell', 'who', 'will', 'arrive', 'first'])"
      ]
     },
     "execution_count": 18,
     "metadata": {},
     "output_type": "execute_result"
    }
   ],
   "source": [
    "# 単語のリスト化\n",
    "TextBlob(sample_en).words"
   ]
  },
  {
   "cell_type": "code",
   "execution_count": 19,
   "metadata": {},
   "outputs": [
    {
     "data": {
      "text/plain": [
       "WordList(['誰が一番に着くか私には分かりません。'])"
      ]
     },
     "execution_count": 19,
     "metadata": {},
     "output_type": "execute_result"
    }
   ],
   "source": [
    "# 日本語はできない\n",
    "TextBlob(sample_jp).words"
   ]
  },
  {
   "cell_type": "code",
   "execution_count": 20,
   "metadata": {},
   "outputs": [
    {
     "data": {
      "text/plain": [
       "Sentiment(polarity=0.25, subjectivity=0.3333333333333333)"
      ]
     },
     "execution_count": 20,
     "metadata": {},
     "output_type": "execute_result"
    }
   ],
   "source": [
    "# sentiment analysis\n",
    "TextBlob(sample_en).sentiment"
   ]
  },
  {
   "cell_type": "code",
   "execution_count": 21,
   "metadata": {},
   "outputs": [
    {
     "data": {
      "text/plain": [
       "0.25"
      ]
     },
     "execution_count": 21,
     "metadata": {},
     "output_type": "execute_result"
    }
   ],
   "source": [
    "TextBlob(sample_en).sentiment[0]"
   ]
  },
  {
   "cell_type": "code",
   "execution_count": 22,
   "metadata": {},
   "outputs": [
    {
     "data": {
      "text/plain": [
       "Sentiment(polarity=0.0, subjectivity=0.0)"
      ]
     },
     "execution_count": 22,
     "metadata": {},
     "output_type": "execute_result"
    }
   ],
   "source": [
    "# sentiment analysis -> 日本語はできない\n",
    "TextBlob(sample_jp).sentiment"
   ]
  },
  {
   "cell_type": "code",
   "execution_count": 23,
   "metadata": {},
   "outputs": [
    {
     "data": {
      "text/plain": [
       "Sentiment(polarity=0.25, subjectivity=0.3333333333333333)"
      ]
     },
     "execution_count": 23,
     "metadata": {},
     "output_type": "execute_result"
    }
   ],
   "source": [
    "# sentiment analysis -> 日本語は翻訳してから実施\n",
    "TextBlob(sample_jp).translate(to='en').sentiment"
   ]
  },
  {
   "cell_type": "markdown",
   "metadata": {},
   "source": [
    "#### en, ja両方に対応できる関数の定義"
   ]
  },
  {
   "cell_type": "code",
   "execution_count": 25,
   "metadata": {},
   "outputs": [],
   "source": [
    "def sentiment_score(x):\n",
    "            \"\"\"\n",
    "            x: text(str type) line\n",
    "            return: polarity\n",
    "            \"\"\"\n",
    "            if TextBlob(x).detect_language()==\"en\":\n",
    "                return TextBlob(x).sentiment[0]\n",
    "            elif TextBlob(x).detect_language()==\"ja\":\n",
    "                return TextBlob(x).translate(to='en').sentiment[0]\n",
    "            else:\n",
    "                return 0"
   ]
  },
  {
   "cell_type": "code",
   "execution_count": 29,
   "metadata": {},
   "outputs": [
    {
     "name": "stdout",
     "output_type": "stream",
     "text": [
      "誰が一番に着くか私には分かりません。\n"
     ]
    },
    {
     "data": {
      "text/plain": [
       "0.25"
      ]
     },
     "execution_count": 29,
     "metadata": {},
     "output_type": "execute_result"
    }
   ],
   "source": [
    "print(sample_jp)\n",
    "sentiment_score(sample_jp)"
   ]
  },
  {
   "cell_type": "code",
   "execution_count": 30,
   "metadata": {},
   "outputs": [
    {
     "name": "stdout",
     "output_type": "stream",
     "text": [
      "i can 't tell who will arrive first .\n"
     ]
    },
    {
     "data": {
      "text/plain": [
       "0.25"
      ]
     },
     "execution_count": 30,
     "metadata": {},
     "output_type": "execute_result"
    }
   ],
   "source": [
    "print(sample_en)\n",
    "sentiment_score(sample_en)"
   ]
  },
  {
   "cell_type": "markdown",
   "metadata": {},
   "source": [
    "#### 列への適用"
   ]
  },
  {
   "cell_type": "code",
   "execution_count": 31,
   "metadata": {
    "scrolled": true
   },
   "outputs": [
    {
     "data": {
      "text/plain": [
       "0     0.25\n",
       "1     0.50\n",
       "2     0.00\n",
       "3     0.80\n",
       "4     0.00\n",
       "5     0.00\n",
       "6     0.00\n",
       "7     0.00\n",
       "8     0.00\n",
       "9    -0.15\n",
       "10    0.00\n",
       "11    0.00\n",
       "12    0.00\n",
       "13    0.00\n",
       "14    0.00\n",
       "15    0.00\n",
       "16    0.00\n",
       "17    0.00\n",
       "18    0.00\n",
       "19    0.35\n",
       "20    0.00\n",
       "21    0.55\n",
       "22    0.00\n",
       "23    0.00\n",
       "24    0.00\n",
       "25    0.00\n",
       "26    0.00\n",
       "27   -0.05\n",
       "28    0.00\n",
       "29    0.00\n",
       "Name: JP_Original, dtype: float64"
      ]
     },
     "execution_count": 31,
     "metadata": {},
     "output_type": "execute_result"
    }
   ],
   "source": [
    "df[\"JP_Original\"].astype(str).fillna(\"NA\").apply(sentiment_score)"
   ]
  },
  {
   "cell_type": "code",
   "execution_count": 32,
   "metadata": {
    "scrolled": true
   },
   "outputs": [
    {
     "data": {
      "text/plain": [
       "0     0.250000\n",
       "1     0.500000\n",
       "2     0.000000\n",
       "3     0.000000\n",
       "4     0.000000\n",
       "5     0.000000\n",
       "6     0.000000\n",
       "7     0.000000\n",
       "8     0.000000\n",
       "9     0.136364\n",
       "10    0.000000\n",
       "11    0.000000\n",
       "12    0.000000\n",
       "13    0.000000\n",
       "14    0.000000\n",
       "15    0.000000\n",
       "16    0.000000\n",
       "17    0.000000\n",
       "18    0.000000\n",
       "19    0.350000\n",
       "20   -0.166667\n",
       "21    0.550000\n",
       "22   -0.200000\n",
       "23   -0.050000\n",
       "24    0.000000\n",
       "25    0.000000\n",
       "26    0.000000\n",
       "27   -0.050000\n",
       "28    0.000000\n",
       "29    0.000000\n",
       "Name: EN_Original, dtype: float64"
      ]
     },
     "execution_count": 32,
     "metadata": {},
     "output_type": "execute_result"
    }
   ],
   "source": [
    "df[\"EN_Original\"].astype(str).fillna(\"NA\").apply(sentiment_score)"
   ]
  },
  {
   "cell_type": "code",
   "execution_count": null,
   "metadata": {},
   "outputs": [],
   "source": []
  }
 ],
 "metadata": {
  "kernelspec": {
   "display_name": "Python 3",
   "language": "python",
   "name": "python3"
  },
  "language_info": {
   "codemirror_mode": {
    "name": "ipython",
    "version": 3
   },
   "file_extension": ".py",
   "mimetype": "text/x-python",
   "name": "python",
   "nbconvert_exporter": "python",
   "pygments_lexer": "ipython3",
   "version": "3.8.5"
  }
 },
 "nbformat": 4,
 "nbformat_minor": 4
}
