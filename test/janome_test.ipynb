{
 "cells": [
  {
   "cell_type": "markdown",
   "metadata": {},
   "source": [
    "Driverless AI Data Recipe. janome(https://mocobeta.github.io/janome/) test"
   ]
  },
  {
   "cell_type": "code",
   "execution_count": 1,
   "metadata": {},
   "outputs": [],
   "source": [
    "import os\n",
    "import pandas as pd\n",
    "from janome.tokenizer import Tokenizer"
   ]
  },
  {
   "cell_type": "code",
   "execution_count": 2,
   "metadata": {},
   "outputs": [
    {
     "data": {
      "text/plain": [
       "(30, 5)"
      ]
     },
     "execution_count": 2,
     "metadata": {},
     "output_type": "execute_result"
    }
   ],
   "source": [
    "df1 = pd.read_csv(\"test_data/T15-2020-1-7-SAMPLE.csv\")\n",
    "df1.shape"
   ]
  },
  {
   "cell_type": "code",
   "execution_count": 3,
   "metadata": {},
   "outputs": [
    {
     "data": {
      "text/html": [
       "<div>\n",
       "<style scoped>\n",
       "    .dataframe tbody tr th:only-of-type {\n",
       "        vertical-align: middle;\n",
       "    }\n",
       "\n",
       "    .dataframe tbody tr th {\n",
       "        vertical-align: top;\n",
       "    }\n",
       "\n",
       "    .dataframe thead th {\n",
       "        text-align: right;\n",
       "    }\n",
       "</style>\n",
       "<table border=\"1\" class=\"dataframe\">\n",
       "  <thead>\n",
       "    <tr style=\"text-align: right;\">\n",
       "      <th></th>\n",
       "      <th>ID</th>\n",
       "      <th>JP_Original</th>\n",
       "      <th>JP_Simple</th>\n",
       "      <th>EN_Original</th>\n",
       "      <th>Negative</th>\n",
       "    </tr>\n",
       "  </thead>\n",
       "  <tbody>\n",
       "    <tr>\n",
       "      <th>0</th>\n",
       "      <td>1</td>\n",
       "      <td>誰が一番に着くか私には分かりません。</td>\n",
       "      <td>誰が一番に着くか私には分かりません。</td>\n",
       "      <td>i can 't tell who will arrive first .</td>\n",
       "      <td>1</td>\n",
       "    </tr>\n",
       "    <tr>\n",
       "      <th>1</th>\n",
       "      <td>2</td>\n",
       "      <td>多くの動物が人間によって滅ぼされた。</td>\n",
       "      <td>多くの動物が人間によって殺された。</td>\n",
       "      <td>many animals have been destroyed by men .</td>\n",
       "      <td>1</td>\n",
       "    </tr>\n",
       "    <tr>\n",
       "      <th>2</th>\n",
       "      <td>3</td>\n",
       "      <td>私はテニス部員です。</td>\n",
       "      <td>私はテニス部員です。</td>\n",
       "      <td>i 'm in the tennis club .</td>\n",
       "      <td>0</td>\n",
       "    </tr>\n",
       "    <tr>\n",
       "      <th>3</th>\n",
       "      <td>4</td>\n",
       "      <td>エミは幸せそうに見えます。</td>\n",
       "      <td>エミは幸せそうに見えます。</td>\n",
       "      <td>emi looks happy .</td>\n",
       "      <td>0</td>\n",
       "    </tr>\n",
       "    <tr>\n",
       "      <th>4</th>\n",
       "      <td>5</td>\n",
       "      <td>この事実を心に留めておいて下さい。</td>\n",
       "      <td>この事実を覚えておいてください。</td>\n",
       "      <td>please bear this fact in mind .</td>\n",
       "      <td>0</td>\n",
       "    </tr>\n",
       "  </tbody>\n",
       "</table>\n",
       "</div>"
      ],
      "text/plain": [
       "   ID         JP_Original           JP_Simple  \\\n",
       "0   1  誰が一番に着くか私には分かりません。  誰が一番に着くか私には分かりません。   \n",
       "1   2  多くの動物が人間によって滅ぼされた。   多くの動物が人間によって殺された。   \n",
       "2   3          私はテニス部員です。          私はテニス部員です。   \n",
       "3   4       エミは幸せそうに見えます。       エミは幸せそうに見えます。   \n",
       "4   5   この事実を心に留めておいて下さい。    この事実を覚えておいてください。   \n",
       "\n",
       "                                 EN_Original  Negative  \n",
       "0      i can 't tell who will arrive first .         1  \n",
       "1  many animals have been destroyed by men .         1  \n",
       "2                  i 'm in the tennis club .         0  \n",
       "3                          emi looks happy .         0  \n",
       "4            please bear this fact in mind .         0  "
      ]
     },
     "execution_count": 3,
     "metadata": {},
     "output_type": "execute_result"
    }
   ],
   "source": [
    "df1.head()"
   ]
  },
  {
   "cell_type": "code",
   "execution_count": 36,
   "metadata": {},
   "outputs": [
    {
     "data": {
      "text/plain": [
       "janome.tokenizer.Tokenizer"
      ]
     },
     "execution_count": 36,
     "metadata": {},
     "output_type": "execute_result"
    }
   ],
   "source": [
    "t = Tokenizer(wakati=True)\n",
    "type(t)"
   ]
  },
  {
   "cell_type": "code",
   "execution_count": 37,
   "metadata": {},
   "outputs": [
    {
     "name": "stdout",
     "output_type": "stream",
     "text": [
      "誰が一番に着くか私には分かりません。\n"
     ]
    },
    {
     "data": {
      "text/plain": [
       "generator"
      ]
     },
     "execution_count": 37,
     "metadata": {},
     "output_type": "execute_result"
    }
   ],
   "source": [
    "test = df1['JP_Original'][0]\n",
    "print(test)\n",
    "type(t.tokenize(test))"
   ]
  },
  {
   "cell_type": "code",
   "execution_count": 38,
   "metadata": {},
   "outputs": [
    {
     "data": {
      "text/plain": [
       "['誰', 'が', '一番', 'に', '着く', 'か', '私', 'に', 'は', '分かり', 'ませ', 'ん', '。']"
      ]
     },
     "execution_count": 38,
     "metadata": {},
     "output_type": "execute_result"
    }
   ],
   "source": [
    "[tkn for tkn in t.tokenize(test)]"
   ]
  },
  {
   "cell_type": "code",
   "execution_count": 7,
   "metadata": {},
   "outputs": [
    {
     "data": {
      "text/plain": [
       "'誰 が 一番 に 着く か 私 に は 分かり ませ ん 。'"
      ]
     },
     "execution_count": 7,
     "metadata": {},
     "output_type": "execute_result"
    }
   ],
   "source": [
    "\" \".join([tkn for tkn in t.tokenize(test)])"
   ]
  },
  {
   "cell_type": "code",
   "execution_count": 8,
   "metadata": {
    "scrolled": true
   },
   "outputs": [
    {
     "data": {
      "text/html": [
       "<div>\n",
       "<style scoped>\n",
       "    .dataframe tbody tr th:only-of-type {\n",
       "        vertical-align: middle;\n",
       "    }\n",
       "\n",
       "    .dataframe tbody tr th {\n",
       "        vertical-align: top;\n",
       "    }\n",
       "\n",
       "    .dataframe thead th {\n",
       "        text-align: right;\n",
       "    }\n",
       "</style>\n",
       "<table border=\"1\" class=\"dataframe\">\n",
       "  <thead>\n",
       "    <tr style=\"text-align: right;\">\n",
       "      <th></th>\n",
       "      <th>ID</th>\n",
       "      <th>JP_Original</th>\n",
       "      <th>JP_Simple</th>\n",
       "      <th>EN_Original</th>\n",
       "      <th>Negative</th>\n",
       "      <th>JP_Original_tkn</th>\n",
       "    </tr>\n",
       "  </thead>\n",
       "  <tbody>\n",
       "    <tr>\n",
       "      <th>0</th>\n",
       "      <td>1</td>\n",
       "      <td>誰が一番に着くか私には分かりません。</td>\n",
       "      <td>誰が一番に着くか私には分かりません。</td>\n",
       "      <td>i can 't tell who will arrive first .</td>\n",
       "      <td>1</td>\n",
       "      <td>誰 が 一番 に 着く か 私 に は 分かり ませ ん 。</td>\n",
       "    </tr>\n",
       "    <tr>\n",
       "      <th>1</th>\n",
       "      <td>2</td>\n",
       "      <td>多くの動物が人間によって滅ぼされた。</td>\n",
       "      <td>多くの動物が人間によって殺された。</td>\n",
       "      <td>many animals have been destroyed by men .</td>\n",
       "      <td>1</td>\n",
       "      <td>多く の 動物 が 人間 によって 滅ぼさ れ た 。</td>\n",
       "    </tr>\n",
       "    <tr>\n",
       "      <th>2</th>\n",
       "      <td>3</td>\n",
       "      <td>私はテニス部員です。</td>\n",
       "      <td>私はテニス部員です。</td>\n",
       "      <td>i 'm in the tennis club .</td>\n",
       "      <td>0</td>\n",
       "      <td>私 は テニス 部員 です 。</td>\n",
       "    </tr>\n",
       "    <tr>\n",
       "      <th>3</th>\n",
       "      <td>4</td>\n",
       "      <td>エミは幸せそうに見えます。</td>\n",
       "      <td>エミは幸せそうに見えます。</td>\n",
       "      <td>emi looks happy .</td>\n",
       "      <td>0</td>\n",
       "      <td>エミ は 幸せ そう に 見え ます 。</td>\n",
       "    </tr>\n",
       "    <tr>\n",
       "      <th>4</th>\n",
       "      <td>5</td>\n",
       "      <td>この事実を心に留めておいて下さい。</td>\n",
       "      <td>この事実を覚えておいてください。</td>\n",
       "      <td>please bear this fact in mind .</td>\n",
       "      <td>0</td>\n",
       "      <td>この 事実 を 心 に 留め て おい て 下さい 。</td>\n",
       "    </tr>\n",
       "    <tr>\n",
       "      <th>5</th>\n",
       "      <td>6</td>\n",
       "      <td>彼女は私たちの世話をしてくれる。</td>\n",
       "      <td>彼女は私たちの世話をしてくれる。</td>\n",
       "      <td>she takes care of my children .</td>\n",
       "      <td>0</td>\n",
       "      <td>彼女 は 私 たち の 世話 を し て くれる 。</td>\n",
       "    </tr>\n",
       "    <tr>\n",
       "      <th>6</th>\n",
       "      <td>7</td>\n",
       "      <td>私達は国際人になりたいと思います。</td>\n",
       "      <td>私たちは国際人になりたいと思います。</td>\n",
       "      <td>we want to be international .</td>\n",
       "      <td>0</td>\n",
       "      <td>私 達 は 国際 人 に なり たい と 思い ます 。</td>\n",
       "    </tr>\n",
       "    <tr>\n",
       "      <th>7</th>\n",
       "      <td>8</td>\n",
       "      <td>約束を破るべきではありません。</td>\n",
       "      <td>約束を破るべきではありません。</td>\n",
       "      <td>you ought not to break your promise .</td>\n",
       "      <td>1</td>\n",
       "      <td>約束 を 破る べき で は あり ませ ん 。</td>\n",
       "    </tr>\n",
       "    <tr>\n",
       "      <th>8</th>\n",
       "      <td>9</td>\n",
       "      <td>道路を横切るときは車に注意しなさい。</td>\n",
       "      <td>道路を渡る時は車に注意しなさい。</td>\n",
       "      <td>when you cross the street , watch out for cars .</td>\n",
       "      <td>1</td>\n",
       "      <td>道路 を 横切る とき は 車 に 注意 し なさい 。</td>\n",
       "    </tr>\n",
       "    <tr>\n",
       "      <th>9</th>\n",
       "      <td>10</td>\n",
       "      <td>私には生き甲斐がない。</td>\n",
       "      <td>私には生きる上での価値がない。</td>\n",
       "      <td>i have nothing to live for .</td>\n",
       "      <td>1</td>\n",
       "      <td>私 に は 生き甲斐 が ない 。</td>\n",
       "    </tr>\n",
       "    <tr>\n",
       "      <th>10</th>\n",
       "      <td>11</td>\n",
       "      <td>父は私が外国へ行くことを承知した。</td>\n",
       "      <td>父は私が外国へ行くことを許した。</td>\n",
       "      <td>my father consented to my going abroad .</td>\n",
       "      <td>0</td>\n",
       "      <td>父 は 私 が 外国 へ 行く こと を 承知 し た 。</td>\n",
       "    </tr>\n",
       "    <tr>\n",
       "      <th>11</th>\n",
       "      <td>12</td>\n",
       "      <td>お弁当食べたんでしょう。</td>\n",
       "      <td>お弁当食べたんでしょう。</td>\n",
       "      <td>you have eaten lunch , haven 't you ?</td>\n",
       "      <td>0</td>\n",
       "      <td>お 弁当 食べ た ん でしょ う 。</td>\n",
       "    </tr>\n",
       "    <tr>\n",
       "      <th>12</th>\n",
       "      <td>13</td>\n",
       "      <td>彼の小説は１つも読んでいない。</td>\n",
       "      <td>彼の小説は１つも読んでいない。</td>\n",
       "      <td>i haven 't read any of his novels .</td>\n",
       "      <td>1</td>\n",
       "      <td>彼 の 小説 は １つ も 読ん で い ない 。</td>\n",
       "    </tr>\n",
       "    <tr>\n",
       "      <th>13</th>\n",
       "      <td>14</td>\n",
       "      <td>彼はどこへ行ったらいいか分からなかった。</td>\n",
       "      <td>彼はどこへ行ったらいいか分からなかった。</td>\n",
       "      <td>he did not know where to go .</td>\n",
       "      <td>1</td>\n",
       "      <td>彼 は どこ へ 行っ たら いい か 分から なかっ た 。</td>\n",
       "    </tr>\n",
       "    <tr>\n",
       "      <th>14</th>\n",
       "      <td>15</td>\n",
       "      <td>彼女は、母親に少し似ている。</td>\n",
       "      <td>彼女は、母に少し似ている。</td>\n",
       "      <td>she is a bit like her mother .</td>\n",
       "      <td>0</td>\n",
       "      <td>彼女 は 、 母親 に 少し 似 て いる 。</td>\n",
       "    </tr>\n",
       "    <tr>\n",
       "      <th>15</th>\n",
       "      <td>16</td>\n",
       "      <td>卑屈な奴。</td>\n",
       "      <td>自分のことをダメだと考える人。</td>\n",
       "      <td>don 't be a dog .</td>\n",
       "      <td>1</td>\n",
       "      <td>卑屈 な 奴 。</td>\n",
       "    </tr>\n",
       "    <tr>\n",
       "      <th>16</th>\n",
       "      <td>17</td>\n",
       "      <td>曇りの日です。</td>\n",
       "      <td>曇りの日です。</td>\n",
       "      <td>it 's a cloudy day .</td>\n",
       "      <td>1</td>\n",
       "      <td>曇り の 日 です 。</td>\n",
       "    </tr>\n",
       "    <tr>\n",
       "      <th>17</th>\n",
       "      <td>18</td>\n",
       "      <td>彼もそれを見た。</td>\n",
       "      <td>彼もそれを見た。</td>\n",
       "      <td>he saw it also .</td>\n",
       "      <td>0</td>\n",
       "      <td>彼 も それ を 見 た 。</td>\n",
       "    </tr>\n",
       "    <tr>\n",
       "      <th>18</th>\n",
       "      <td>19</td>\n",
       "      <td>私は音楽が好きではありません。</td>\n",
       "      <td>私は音楽が好きではありません。</td>\n",
       "      <td>i do not like music .</td>\n",
       "      <td>1</td>\n",
       "      <td>私 は 音楽 が 好き で は あり ませ ん 。</td>\n",
       "    </tr>\n",
       "    <tr>\n",
       "      <th>19</th>\n",
       "      <td>20</td>\n",
       "      <td>それは本当のはずはない。</td>\n",
       "      <td>それは本当のはずはない。</td>\n",
       "      <td>it cannot be true .</td>\n",
       "      <td>1</td>\n",
       "      <td>それ は 本当 の はず は ない 。</td>\n",
       "    </tr>\n",
       "    <tr>\n",
       "      <th>20</th>\n",
       "      <td>21</td>\n",
       "      <td>その仕事を引き受けようかと思っている。</td>\n",
       "      <td>その仕事を担当しようかと思っている。</td>\n",
       "      <td>i have half a mind to undertake the work .</td>\n",
       "      <td>0</td>\n",
       "      <td>その 仕事 を 引き受けよ う か と 思っ て いる 。</td>\n",
       "    </tr>\n",
       "    <tr>\n",
       "      <th>21</th>\n",
       "      <td>22</td>\n",
       "      <td>サッカーは日本で以前よりも今人気がある。</td>\n",
       "      <td>サッカーは日本で前よりも今、人気がある。</td>\n",
       "      <td>soccer is more popular in japan than it used t...</td>\n",
       "      <td>0</td>\n",
       "      <td>サッカー は 日本 で 以前 より も 今 人気 が ある 。</td>\n",
       "    </tr>\n",
       "    <tr>\n",
       "      <th>22</th>\n",
       "      <td>23</td>\n",
       "      <td>車がそんなに混んでなければ問題ないでしょう。</td>\n",
       "      <td>車がそんなに混んでなければ問題ないでしょう。</td>\n",
       "      <td>we shouldn 't have any trouble if the traffic ...</td>\n",
       "      <td>0</td>\n",
       "      <td>車 が そんなに 混ん で なけれ ば 問題 ない でしょ う 。</td>\n",
       "    </tr>\n",
       "    <tr>\n",
       "      <th>23</th>\n",
       "      <td>24</td>\n",
       "      <td>２時間も待たされた。</td>\n",
       "      <td>２時間も待った。</td>\n",
       "      <td>i was kept waiting for as long as two hours .</td>\n",
       "      <td>1</td>\n",
       "      <td>２ 時間 も 待たさ れ た 。</td>\n",
       "    </tr>\n",
       "    <tr>\n",
       "      <th>24</th>\n",
       "      <td>25</td>\n",
       "      <td>ボブは私の友達です。</td>\n",
       "      <td>ボブは私の友達です。</td>\n",
       "      <td>bob is my friend .</td>\n",
       "      <td>0</td>\n",
       "      <td>ボブ は 私 の 友達 です 。</td>\n",
       "    </tr>\n",
       "    <tr>\n",
       "      <th>25</th>\n",
       "      <td>26</td>\n",
       "      <td>気にしないようにしているんだ。</td>\n",
       "      <td>気にしないようにしているんだ。</td>\n",
       "      <td>i just brush it off .</td>\n",
       "      <td>0</td>\n",
       "      <td>気 に し ない よう に し て いる ん だ 。</td>\n",
       "    </tr>\n",
       "    <tr>\n",
       "      <th>26</th>\n",
       "      <td>27</td>\n",
       "      <td>どうぞ午後に私の家へ来てください。</td>\n",
       "      <td>どうぞ午後に私の家へ来てください。</td>\n",
       "      <td>please come to my house in the afternoon .</td>\n",
       "      <td>0</td>\n",
       "      <td>どうぞ 午後 に 私 の 家 へ 来 て ください 。</td>\n",
       "    </tr>\n",
       "    <tr>\n",
       "      <th>27</th>\n",
       "      <td>28</td>\n",
       "      <td>車でどれくらいかかりますか。</td>\n",
       "      <td>車でどれくらいかかりますか。</td>\n",
       "      <td>how long does it take by car ?</td>\n",
       "      <td>0</td>\n",
       "      <td>車 で どれ くらい かかり ます か 。</td>\n",
       "    </tr>\n",
       "    <tr>\n",
       "      <th>28</th>\n",
       "      <td>29</td>\n",
       "      <td>私は彼女が子供のころから知っています。</td>\n",
       "      <td>私は彼女が子供の頃から知っています。</td>\n",
       "      <td>i have known her since she was a child .</td>\n",
       "      <td>0</td>\n",
       "      <td>私 は 彼女 が 子供 の ころ から 知っ て い ます 。</td>\n",
       "    </tr>\n",
       "    <tr>\n",
       "      <th>29</th>\n",
       "      <td>30</td>\n",
       "      <td>申告する物は何もありません。</td>\n",
       "      <td>言っておく物は何もありません。</td>\n",
       "      <td>i have nothing to declare .</td>\n",
       "      <td>1</td>\n",
       "      <td>申告 する 物 は 何 も あり ませ ん 。</td>\n",
       "    </tr>\n",
       "  </tbody>\n",
       "</table>\n",
       "</div>"
      ],
      "text/plain": [
       "    ID             JP_Original               JP_Simple  \\\n",
       "0    1      誰が一番に着くか私には分かりません。      誰が一番に着くか私には分かりません。   \n",
       "1    2      多くの動物が人間によって滅ぼされた。       多くの動物が人間によって殺された。   \n",
       "2    3              私はテニス部員です。              私はテニス部員です。   \n",
       "3    4           エミは幸せそうに見えます。           エミは幸せそうに見えます。   \n",
       "4    5       この事実を心に留めておいて下さい。        この事実を覚えておいてください。   \n",
       "5    6        彼女は私たちの世話をしてくれる。        彼女は私たちの世話をしてくれる。   \n",
       "6    7       私達は国際人になりたいと思います。      私たちは国際人になりたいと思います。   \n",
       "7    8         約束を破るべきではありません。         約束を破るべきではありません。   \n",
       "8    9      道路を横切るときは車に注意しなさい。        道路を渡る時は車に注意しなさい。   \n",
       "9   10             私には生き甲斐がない。         私には生きる上での価値がない。   \n",
       "10  11       父は私が外国へ行くことを承知した。        父は私が外国へ行くことを許した。   \n",
       "11  12            お弁当食べたんでしょう。            お弁当食べたんでしょう。   \n",
       "12  13         彼の小説は１つも読んでいない。         彼の小説は１つも読んでいない。   \n",
       "13  14    彼はどこへ行ったらいいか分からなかった。    彼はどこへ行ったらいいか分からなかった。   \n",
       "14  15          彼女は、母親に少し似ている。           彼女は、母に少し似ている。   \n",
       "15  16                   卑屈な奴。         自分のことをダメだと考える人。   \n",
       "16  17                 曇りの日です。                 曇りの日です。   \n",
       "17  18                彼もそれを見た。                彼もそれを見た。   \n",
       "18  19         私は音楽が好きではありません。         私は音楽が好きではありません。   \n",
       "19  20            それは本当のはずはない。            それは本当のはずはない。   \n",
       "20  21     その仕事を引き受けようかと思っている。      その仕事を担当しようかと思っている。   \n",
       "21  22    サッカーは日本で以前よりも今人気がある。    サッカーは日本で前よりも今、人気がある。   \n",
       "22  23  車がそんなに混んでなければ問題ないでしょう。  車がそんなに混んでなければ問題ないでしょう。   \n",
       "23  24              ２時間も待たされた。                ２時間も待った。   \n",
       "24  25              ボブは私の友達です。              ボブは私の友達です。   \n",
       "25  26         気にしないようにしているんだ。         気にしないようにしているんだ。   \n",
       "26  27       どうぞ午後に私の家へ来てください。       どうぞ午後に私の家へ来てください。   \n",
       "27  28          車でどれくらいかかりますか。          車でどれくらいかかりますか。   \n",
       "28  29     私は彼女が子供のころから知っています。      私は彼女が子供の頃から知っています。   \n",
       "29  30          申告する物は何もありません。         言っておく物は何もありません。   \n",
       "\n",
       "                                          EN_Original  Negative  \\\n",
       "0               i can 't tell who will arrive first .         1   \n",
       "1           many animals have been destroyed by men .         1   \n",
       "2                           i 'm in the tennis club .         0   \n",
       "3                                   emi looks happy .         0   \n",
       "4                     please bear this fact in mind .         0   \n",
       "5                     she takes care of my children .         0   \n",
       "6                       we want to be international .         0   \n",
       "7               you ought not to break your promise .         1   \n",
       "8    when you cross the street , watch out for cars .         1   \n",
       "9                        i have nothing to live for .         1   \n",
       "10           my father consented to my going abroad .         0   \n",
       "11              you have eaten lunch , haven 't you ?         0   \n",
       "12                i haven 't read any of his novels .         1   \n",
       "13                      he did not know where to go .         1   \n",
       "14                     she is a bit like her mother .         0   \n",
       "15                                  don 't be a dog .         1   \n",
       "16                               it 's a cloudy day .         1   \n",
       "17                                   he saw it also .         0   \n",
       "18                              i do not like music .         1   \n",
       "19                                it cannot be true .         1   \n",
       "20         i have half a mind to undertake the work .         0   \n",
       "21  soccer is more popular in japan than it used t...         0   \n",
       "22  we shouldn 't have any trouble if the traffic ...         0   \n",
       "23      i was kept waiting for as long as two hours .         1   \n",
       "24                                 bob is my friend .         0   \n",
       "25                              i just brush it off .         0   \n",
       "26         please come to my house in the afternoon .         0   \n",
       "27                     how long does it take by car ?         0   \n",
       "28           i have known her since she was a child .         0   \n",
       "29                        i have nothing to declare .         1   \n",
       "\n",
       "                      JP_Original_tkn  \n",
       "0      誰 が 一番 に 着く か 私 に は 分かり ませ ん 。  \n",
       "1         多く の 動物 が 人間 によって 滅ぼさ れ た 。  \n",
       "2                     私 は テニス 部員 です 。  \n",
       "3                エミ は 幸せ そう に 見え ます 。  \n",
       "4         この 事実 を 心 に 留め て おい て 下さい 。  \n",
       "5          彼女 は 私 たち の 世話 を し て くれる 。  \n",
       "6        私 達 は 国際 人 に なり たい と 思い ます 。  \n",
       "7            約束 を 破る べき で は あり ませ ん 。  \n",
       "8        道路 を 横切る とき は 車 に 注意 し なさい 。  \n",
       "9                   私 に は 生き甲斐 が ない 。  \n",
       "10      父 は 私 が 外国 へ 行く こと を 承知 し た 。  \n",
       "11                お 弁当 食べ た ん でしょ う 。  \n",
       "12          彼 の 小説 は １つ も 読ん で い ない 。  \n",
       "13    彼 は どこ へ 行っ たら いい か 分から なかっ た 。  \n",
       "14            彼女 は 、 母親 に 少し 似 て いる 。  \n",
       "15                           卑屈 な 奴 。  \n",
       "16                        曇り の 日 です 。  \n",
       "17                     彼 も それ を 見 た 。  \n",
       "18          私 は 音楽 が 好き で は あり ませ ん 。  \n",
       "19                それ は 本当 の はず は ない 。  \n",
       "20      その 仕事 を 引き受けよ う か と 思っ て いる 。  \n",
       "21    サッカー は 日本 で 以前 より も 今 人気 が ある 。  \n",
       "22  車 が そんなに 混ん で なけれ ば 問題 ない でしょ う 。  \n",
       "23                   ２ 時間 も 待たさ れ た 。  \n",
       "24                   ボブ は 私 の 友達 です 。  \n",
       "25         気 に し ない よう に し て いる ん だ 。  \n",
       "26        どうぞ 午後 に 私 の 家 へ 来 て ください 。  \n",
       "27              車 で どれ くらい かかり ます か 。  \n",
       "28    私 は 彼女 が 子供 の ころ から 知っ て い ます 。  \n",
       "29            申告 する 物 は 何 も あり ませ ん 。  "
      ]
     },
     "execution_count": 8,
     "metadata": {},
     "output_type": "execute_result"
    }
   ],
   "source": [
    "df1['JP_Original_tkn'] = df1['JP_Original'].apply(lambda x: \" \".join([tkn for tkn in t.tokenize(x)]))\n",
    "df1"
   ]
  },
  {
   "cell_type": "code",
   "execution_count": null,
   "metadata": {},
   "outputs": [],
   "source": []
  },
  {
   "cell_type": "code",
   "execution_count": 34,
   "metadata": {},
   "outputs": [
    {
     "data": {
      "text/plain": [
       "(10000, 3)"
      ]
     },
     "execution_count": 34,
     "metadata": {},
     "output_type": "execute_result"
    }
   ],
   "source": [
    "df_path = os.path.join(os.environ['HOME'], 'Documents', 'Sample_Data', 'Amazon_Review_JP', 'amazon_reviews_multilingual_JP_v1_00_SMALL.csv') \n",
    "df2 = pd.read_csv(df_path)\n",
    "df2.shape"
   ]
  },
  {
   "cell_type": "code",
   "execution_count": 38,
   "metadata": {},
   "outputs": [
    {
     "name": "stdout",
     "output_type": "stream",
     "text": [
      "CPU times: user 2min 15s, sys: 166 ms, total: 2min 15s\n",
      "Wall time: 2min 15s\n"
     ]
    }
   ],
   "source": [
    "%%time\n",
    "df2['review_body_tkn'] = df2['review_body'].apply(lambda x: \" \".join([tkn for tkn in t.tokenize(x)]))"
   ]
  },
  {
   "cell_type": "code",
   "execution_count": 39,
   "metadata": {},
   "outputs": [
    {
     "data": {
      "text/html": [
       "<div>\n",
       "<style scoped>\n",
       "    .dataframe tbody tr th:only-of-type {\n",
       "        vertical-align: middle;\n",
       "    }\n",
       "\n",
       "    .dataframe tbody tr th {\n",
       "        vertical-align: top;\n",
       "    }\n",
       "\n",
       "    .dataframe thead th {\n",
       "        text-align: right;\n",
       "    }\n",
       "</style>\n",
       "<table border=\"1\" class=\"dataframe\">\n",
       "  <thead>\n",
       "    <tr style=\"text-align: right;\">\n",
       "      <th></th>\n",
       "      <th>star_rating</th>\n",
       "      <th>star_rating_Low</th>\n",
       "      <th>review_body</th>\n",
       "      <th>review_body_tkn</th>\n",
       "    </tr>\n",
       "  </thead>\n",
       "  <tbody>\n",
       "    <tr>\n",
       "      <th>0</th>\n",
       "      <td>5</td>\n",
       "      <td>0</td>\n",
       "      <td>ブルーレイで。&lt;br /&gt;５．１ｃｈで楽しんでます。&lt;br /&gt;小学生の娘も好きな映画です。</td>\n",
       "      <td>ブルー レイ で 。&lt; br   /&gt; ５ ． １ ｃｈ で 楽しん で ます 。 &lt; br...</td>\n",
       "    </tr>\n",
       "    <tr>\n",
       "      <th>1</th>\n",
       "      <td>1</td>\n",
       "      <td>1</td>\n",
       "      <td>くそ!開けなくなったぞ！なぜ開かなくなった！くそ、くそ、くそ!</td>\n",
       "      <td>くそ ! 開け なく なっ た ぞ ！ なぜ 開か なく なっ た ！ くそ 、 くそ 、 ...</td>\n",
       "    </tr>\n",
       "    <tr>\n",
       "      <th>2</th>\n",
       "      <td>4</td>\n",
       "      <td>0</td>\n",
       "      <td>ご都合主義な部分が多く見られたような気がしたのですが、この映画はこれでいいのだと私は思いまし...</td>\n",
       "      <td>ご都合主義 な 部分 が 多く 見 られ た よう な 気 が し た の です が 、 こ...</td>\n",
       "    </tr>\n",
       "    <tr>\n",
       "      <th>3</th>\n",
       "      <td>3</td>\n",
       "      <td>0</td>\n",
       "      <td>ああいう鬱々しい話は旧エヴァだけにして欲しかったと思います。しかし、これ以上にひどかったのは...</td>\n",
       "      <td>ああ いう 鬱々 しい 話 は 旧 エヴァ だけ に し て 欲しかっ た と 思い ます ...</td>\n",
       "    </tr>\n",
       "    <tr>\n",
       "      <th>4</th>\n",
       "      <td>1</td>\n",
       "      <td>1</td>\n",
       "      <td>読み込めないファイルがあったり、まぁ無料だからそんなもんかって感じです。</td>\n",
       "      <td>読み込め ない ファイル が あっ たり 、 まぁ 無料 だ から そんな もん か って ...</td>\n",
       "    </tr>\n",
       "  </tbody>\n",
       "</table>\n",
       "</div>"
      ],
      "text/plain": [
       "   star_rating  star_rating_Low  \\\n",
       "0            5                0   \n",
       "1            1                1   \n",
       "2            4                0   \n",
       "3            3                0   \n",
       "4            1                1   \n",
       "\n",
       "                                         review_body  \\\n",
       "0     ブルーレイで。<br />５．１ｃｈで楽しんでます。<br />小学生の娘も好きな映画です。   \n",
       "1                    くそ!開けなくなったぞ！なぜ開かなくなった！くそ、くそ、くそ!   \n",
       "2  ご都合主義な部分が多く見られたような気がしたのですが、この映画はこれでいいのだと私は思いまし...   \n",
       "3  ああいう鬱々しい話は旧エヴァだけにして欲しかったと思います。しかし、これ以上にひどかったのは...   \n",
       "4               読み込めないファイルがあったり、まぁ無料だからそんなもんかって感じです。   \n",
       "\n",
       "                                     review_body_tkn  \n",
       "0  ブルー レイ で 。< br   /> ５ ． １ ｃｈ で 楽しん で ます 。 < br...  \n",
       "1  くそ ! 開け なく なっ た ぞ ！ なぜ 開か なく なっ た ！ くそ 、 くそ 、 ...  \n",
       "2  ご都合主義 な 部分 が 多く 見 られ た よう な 気 が し た の です が 、 こ...  \n",
       "3  ああ いう 鬱々 しい 話 は 旧 エヴァ だけ に し て 欲しかっ た と 思い ます ...  \n",
       "4  読み込め ない ファイル が あっ たり 、 まぁ 無料 だ から そんな もん か って ...  "
      ]
     },
     "execution_count": 39,
     "metadata": {},
     "output_type": "execute_result"
    }
   ],
   "source": [
    "df2.head()"
   ]
  },
  {
   "cell_type": "code",
   "execution_count": null,
   "metadata": {},
   "outputs": [],
   "source": []
  },
  {
   "cell_type": "markdown",
   "metadata": {},
   "source": [
    "### 辞書の利用"
   ]
  },
  {
   "cell_type": "code",
   "execution_count": 40,
   "metadata": {},
   "outputs": [
    {
     "name": "stdout",
     "output_type": "stream",
     "text": [
      "美\t名詞,一般,*,*,*,*,美,ビ,ビ\n",
      "ら\t名詞,接尾,一般,*,*,*,ら,ラ,ラ\n",
      "海図\t名詞,一般,*,*,*,*,海図,カイズ,カイズ\n",
      "画\t名詞,接尾,一般,*,*,*,画,ガ,ガ\n",
      "コンクール\t名詞,一般,*,*,*,*,コンクール,コンクール,コンクール\n"
     ]
    }
   ],
   "source": [
    "t = Tokenizer()\n",
    "for token in t.tokenize('美ら海図画コンクール'):\n",
    "    print(token)"
   ]
  },
  {
   "cell_type": "code",
   "execution_count": 41,
   "metadata": {},
   "outputs": [
    {
     "name": "stdout",
     "output_type": "stream",
     "text": [
      "美\n",
      "ら\n",
      "海図\n",
      "画\n",
      "コンクール\n"
     ]
    }
   ],
   "source": [
    "t = Tokenizer(wakati=True)\n",
    "for token in t.tokenize('美ら海図画コンクール'):\n",
    "    print(token)"
   ]
  },
  {
   "cell_type": "code",
   "execution_count": 42,
   "metadata": {},
   "outputs": [
    {
     "data": {
      "text/plain": [
       "['美', 'ら', '海図', '画', 'コンクール']"
      ]
     },
     "execution_count": 42,
     "metadata": {},
     "output_type": "execute_result"
    }
   ],
   "source": [
    "[tkn for tkn in t.tokenize('美ら海図画コンクール')]"
   ]
  },
  {
   "cell_type": "code",
   "execution_count": 43,
   "metadata": {},
   "outputs": [
    {
     "data": {
      "text/plain": [
       "['東京',\n",
       " 'スカイ',\n",
       " 'ツリー',\n",
       " 'へ',\n",
       " 'の',\n",
       " 'お越し',\n",
       " 'は',\n",
       " '、',\n",
       " '東武',\n",
       " 'スカイツリーライン',\n",
       " '「',\n",
       " 'とう',\n",
       " 'きょう',\n",
       " 'スカイ',\n",
       " 'ツリー',\n",
       " '駅',\n",
       " '」',\n",
       " 'が',\n",
       " '便',\n",
       " ' ',\n",
       " '利',\n",
       " 'です',\n",
       " '。']"
      ]
     },
     "execution_count": 43,
     "metadata": {},
     "output_type": "execute_result"
    }
   ],
   "source": [
    "[tkn for tkn in t.tokenize('東京スカイツリーへのお越しは、東武スカイツリーライン「とうきょうスカイツリー駅」が便 利です。')]"
   ]
  },
  {
   "cell_type": "code",
   "execution_count": 60,
   "metadata": {},
   "outputs": [
    {
     "name": "stdout",
     "output_type": "stream",
     "text": [
      "東京スカイツリー,カスタム名詞,トウキョウスカイツリー\r\n",
      "東武スカイツリーライン,カスタム名詞,トウブスカイツリーライン\r\n",
      "とうきょうスカイツリー駅,カスタム名詞,トウキョウスカイツリーエキ\r\n",
      "美ら海,カスタム名詞,ちゅらうみ\r\n",
      "H2O,カスタム名詞,えいちつーおー\r\n",
      "機械学習,カスタム名詞,機械学習"
     ]
    }
   ],
   "source": [
    "!cat tokenize_dict/dict_test.csv"
   ]
  },
  {
   "cell_type": "code",
   "execution_count": 61,
   "metadata": {},
   "outputs": [],
   "source": [
    "t = Tokenizer(\"tokenize_dict/dict_test.csv\", udic_type=\"simpledic\", udic_enc=\"utf8\", wakati=True)"
   ]
  },
  {
   "cell_type": "code",
   "execution_count": 62,
   "metadata": {},
   "outputs": [
    {
     "data": {
      "text/plain": [
       "['美ら海', '図画', 'コンクール']"
      ]
     },
     "execution_count": 62,
     "metadata": {},
     "output_type": "execute_result"
    }
   ],
   "source": [
    "[tkn for tkn in t.tokenize('美ら海図画コンクール')]"
   ]
  },
  {
   "cell_type": "code",
   "execution_count": 63,
   "metadata": {},
   "outputs": [
    {
     "data": {
      "text/plain": [
       "['東京スカイツリー',\n",
       " 'へ',\n",
       " 'の',\n",
       " 'お越し',\n",
       " 'は',\n",
       " '、',\n",
       " '東武スカイツリーライン',\n",
       " '「',\n",
       " 'とうきょうスカイツリー駅',\n",
       " '」',\n",
       " 'が',\n",
       " '便',\n",
       " ' ',\n",
       " '利',\n",
       " 'です',\n",
       " '。']"
      ]
     },
     "execution_count": 63,
     "metadata": {},
     "output_type": "execute_result"
    }
   ],
   "source": [
    "[tkn for tkn in t.tokenize('東京スカイツリーへのお越しは、東武スカイツリーライン「とうきょうスカイツリー駅」が便 利です。')]"
   ]
  },
  {
   "cell_type": "code",
   "execution_count": 64,
   "metadata": {},
   "outputs": [
    {
     "data": {
      "text/plain": [
       "['H2O', 'による', '機械学習']"
      ]
     },
     "execution_count": 64,
     "metadata": {},
     "output_type": "execute_result"
    }
   ],
   "source": [
    "[tkn for tkn in t.tokenize('H2Oによる機械学習')]"
   ]
  },
  {
   "cell_type": "code",
   "execution_count": null,
   "metadata": {},
   "outputs": [],
   "source": []
  }
 ],
 "metadata": {
  "kernelspec": {
   "display_name": "Python 3",
   "language": "python",
   "name": "python3"
  },
  "language_info": {
   "codemirror_mode": {
    "name": "ipython",
    "version": 3
   },
   "file_extension": ".py",
   "mimetype": "text/x-python",
   "name": "python",
   "nbconvert_exporter": "python",
   "pygments_lexer": "ipython3",
   "version": "3.8.5"
  }
 },
 "nbformat": 4,
 "nbformat_minor": 4
}
