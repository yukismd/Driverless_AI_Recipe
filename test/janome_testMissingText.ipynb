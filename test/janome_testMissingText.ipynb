{
 "cells": [
  {
   "cell_type": "markdown",
   "id": "15e0eb14",
   "metadata": {},
   "source": [
    "Test if text column is missing"
   ]
  },
  {
   "cell_type": "code",
   "execution_count": 1,
   "id": "e6f908bc",
   "metadata": {},
   "outputs": [],
   "source": [
    "import os\n",
    "import pandas as pd\n",
    "from janome.tokenizer import Tokenizer"
   ]
  },
  {
   "cell_type": "code",
   "execution_count": 3,
   "id": "1b652ea4",
   "metadata": {},
   "outputs": [
    {
     "name": "stdout",
     "output_type": "stream",
     "text": [
      "/Users/YShimada-MBP16/Documents/Code_Github/Driverless_AI_Recipe/test\r\n"
     ]
    }
   ],
   "source": [
    "!pwd"
   ]
  },
  {
   "cell_type": "code",
   "execution_count": 4,
   "id": "7f7f9f4c",
   "metadata": {},
   "outputs": [
    {
     "name": "stdout",
     "output_type": "stream",
     "text": [
      "Untitled.ipynb       \u001b[34mtest_data\u001b[m\u001b[m            \u001b[34mtokenize_dict\u001b[m\u001b[m\r\n",
      "janome_test.ipynb    textblob_test1.ipynb\r\n"
     ]
    }
   ],
   "source": [
    "!ls"
   ]
  },
  {
   "cell_type": "code",
   "execution_count": 5,
   "id": "522cdd2c",
   "metadata": {},
   "outputs": [
    {
     "data": {
      "text/plain": [
       "(50, 7)"
      ]
     },
     "execution_count": 5,
     "metadata": {},
     "output_type": "execute_result"
    }
   ],
   "source": [
    "df = pd.read_csv('test_data/amazon_50SAMPLE_missing.csv')\n",
    "df.shape"
   ]
  },
  {
   "cell_type": "code",
   "execution_count": 7,
   "id": "72075bd0",
   "metadata": {},
   "outputs": [
    {
     "data": {
      "text/html": [
       "<div>\n",
       "<style scoped>\n",
       "    .dataframe tbody tr th:only-of-type {\n",
       "        vertical-align: middle;\n",
       "    }\n",
       "\n",
       "    .dataframe tbody tr th {\n",
       "        vertical-align: top;\n",
       "    }\n",
       "\n",
       "    .dataframe thead th {\n",
       "        text-align: right;\n",
       "    }\n",
       "</style>\n",
       "<table border=\"1\" class=\"dataframe\">\n",
       "  <thead>\n",
       "    <tr style=\"text-align: right;\">\n",
       "      <th></th>\n",
       "      <th>star_rating</th>\n",
       "      <th>star_rating_Low</th>\n",
       "      <th>product_category</th>\n",
       "      <th>product_id</th>\n",
       "      <th>product_title</th>\n",
       "      <th>review_date</th>\n",
       "      <th>review_body2</th>\n",
       "    </tr>\n",
       "  </thead>\n",
       "  <tbody>\n",
       "    <tr>\n",
       "      <th>0</th>\n",
       "      <td>5</td>\n",
       "      <td>0</td>\n",
       "      <td>Books</td>\n",
       "      <td>1419715712</td>\n",
       "      <td>The Wes Anderson Collection: The Grand Budapes...</td>\n",
       "      <td>2015-06-13</td>\n",
       "      <td>カワイイ、、！英語だけど写真だけで満足できる内容でした。シンメトリー、衣装、色彩などウェスア...</td>\n",
       "    </tr>\n",
       "    <tr>\n",
       "      <th>1</th>\n",
       "      <td>5</td>\n",
       "      <td>0</td>\n",
       "      <td>Books</td>\n",
       "      <td>0521173787</td>\n",
       "      <td>Cambridge IELTS 8 Student's Book with Answers:...</td>\n",
       "      <td>2015-08-14</td>\n",
       "      <td>一般的な書店に売っていないので助かります。今後も利用したいと思います。</td>\n",
       "    </tr>\n",
       "    <tr>\n",
       "      <th>2</th>\n",
       "      <td>1</td>\n",
       "      <td>1</td>\n",
       "      <td>Books</td>\n",
       "      <td>0007466714</td>\n",
       "      <td>The One (The Selection)</td>\n",
       "      <td>2015-06-18</td>\n",
       "      <td>NaN</td>\n",
       "    </tr>\n",
       "    <tr>\n",
       "      <th>3</th>\n",
       "      <td>5</td>\n",
       "      <td>0</td>\n",
       "      <td>Books</td>\n",
       "      <td>0307473473</td>\n",
       "      <td>The Girl with the Dragon Tattoo: Book 1 of the...</td>\n",
       "      <td>2015-08-31</td>\n",
       "      <td>映画だけじゃわからないことが、この本を読むとわかります。（当たり前ですが）でも、とにかくこの...</td>\n",
       "    </tr>\n",
       "    <tr>\n",
       "      <th>4</th>\n",
       "      <td>1</td>\n",
       "      <td>1</td>\n",
       "      <td>Books</td>\n",
       "      <td>0307741907</td>\n",
       "      <td>The Lost Symbol</td>\n",
       "      <td>2015-08-31</td>\n",
       "      <td>悪党マラークがしたかったことがあまりにもショボすぎてサスペンス、ミステリー小説として、オチが...</td>\n",
       "    </tr>\n",
       "  </tbody>\n",
       "</table>\n",
       "</div>"
      ],
      "text/plain": [
       "   star_rating  star_rating_Low product_category  product_id  \\\n",
       "0            5                0            Books  1419715712   \n",
       "1            5                0            Books  0521173787   \n",
       "2            1                1            Books  0007466714   \n",
       "3            5                0            Books  0307473473   \n",
       "4            1                1            Books  0307741907   \n",
       "\n",
       "                                       product_title review_date  \\\n",
       "0  The Wes Anderson Collection: The Grand Budapes...  2015-06-13   \n",
       "1  Cambridge IELTS 8 Student's Book with Answers:...  2015-08-14   \n",
       "2                            The One (The Selection)  2015-06-18   \n",
       "3  The Girl with the Dragon Tattoo: Book 1 of the...  2015-08-31   \n",
       "4                                    The Lost Symbol  2015-08-31   \n",
       "\n",
       "                                        review_body2  \n",
       "0  カワイイ、、！英語だけど写真だけで満足できる内容でした。シンメトリー、衣装、色彩などウェスア...  \n",
       "1                一般的な書店に売っていないので助かります。今後も利用したいと思います。  \n",
       "2                                                NaN  \n",
       "3  映画だけじゃわからないことが、この本を読むとわかります。（当たり前ですが）でも、とにかくこの...  \n",
       "4  悪党マラークがしたかったことがあまりにもショボすぎてサスペンス、ミステリー小説として、オチが...  "
      ]
     },
     "execution_count": 7,
     "metadata": {},
     "output_type": "execute_result"
    }
   ],
   "source": [
    "df.head()"
   ]
  },
  {
   "cell_type": "code",
   "execution_count": 15,
   "id": "fb33f4fe",
   "metadata": {},
   "outputs": [
    {
     "data": {
      "text/plain": [
       "'一般的な書店に売っていないので助かります。今後も利用したいと思います。'"
      ]
     },
     "execution_count": 15,
     "metadata": {},
     "output_type": "execute_result"
    }
   ],
   "source": [
    "s1 = df.loc[1,'review_body2']\n",
    "s1"
   ]
  },
  {
   "cell_type": "code",
   "execution_count": 10,
   "id": "7279b133",
   "metadata": {},
   "outputs": [
    {
     "data": {
      "text/plain": [
       "nan"
      ]
     },
     "execution_count": 10,
     "metadata": {},
     "output_type": "execute_result"
    }
   ],
   "source": [
    "s2 = df.loc[2,'review_body2']\n",
    "s2"
   ]
  },
  {
   "cell_type": "code",
   "execution_count": 12,
   "id": "388b63c5",
   "metadata": {},
   "outputs": [
    {
     "data": {
      "text/plain": [
       "(str, float)"
      ]
     },
     "execution_count": 12,
     "metadata": {},
     "output_type": "execute_result"
    }
   ],
   "source": [
    "type(s1), type(s2)"
   ]
  },
  {
   "cell_type": "code",
   "execution_count": 13,
   "id": "e1ef9ffe",
   "metadata": {},
   "outputs": [
    {
     "data": {
      "text/plain": [
       "janome.tokenizer.Tokenizer"
      ]
     },
     "execution_count": 13,
     "metadata": {},
     "output_type": "execute_result"
    }
   ],
   "source": [
    "t = Tokenizer(wakati=True)\n",
    "type(t)"
   ]
  },
  {
   "cell_type": "code",
   "execution_count": 16,
   "id": "a52de07a",
   "metadata": {},
   "outputs": [
    {
     "data": {
      "text/plain": [
       "['一般',\n",
       " '的',\n",
       " 'な',\n",
       " '書店',\n",
       " 'に',\n",
       " '売っ',\n",
       " 'て',\n",
       " 'い',\n",
       " 'ない',\n",
       " 'ので',\n",
       " '助かり',\n",
       " 'ます',\n",
       " '。',\n",
       " '今後',\n",
       " 'も',\n",
       " '利用',\n",
       " 'し',\n",
       " 'たい',\n",
       " 'と',\n",
       " '思い',\n",
       " 'ます',\n",
       " '。']"
      ]
     },
     "execution_count": 16,
     "metadata": {},
     "output_type": "execute_result"
    }
   ],
   "source": [
    "[tkn for tkn in t.tokenize(s1)]"
   ]
  },
  {
   "cell_type": "code",
   "execution_count": 17,
   "id": "96b3da4b",
   "metadata": {},
   "outputs": [
    {
     "ename": "AttributeError",
     "evalue": "'float' object has no attribute 'strip'",
     "output_type": "error",
     "traceback": [
      "\u001b[0;31m---------------------------------------------------------------------------\u001b[0m",
      "\u001b[0;31mAttributeError\u001b[0m                            Traceback (most recent call last)",
      "\u001b[0;32m<ipython-input-17-030d527f6977>\u001b[0m in \u001b[0;36m<module>\u001b[0;34m\u001b[0m\n\u001b[0;32m----> 1\u001b[0;31m \u001b[0;34m[\u001b[0m\u001b[0mtkn\u001b[0m \u001b[0;32mfor\u001b[0m \u001b[0mtkn\u001b[0m \u001b[0;32min\u001b[0m \u001b[0mt\u001b[0m\u001b[0;34m.\u001b[0m\u001b[0mtokenize\u001b[0m\u001b[0;34m(\u001b[0m\u001b[0ms2\u001b[0m\u001b[0;34m)\u001b[0m\u001b[0;34m]\u001b[0m\u001b[0;34m\u001b[0m\u001b[0;34m\u001b[0m\u001b[0m\n\u001b[0m",
      "\u001b[0;32m<ipython-input-17-030d527f6977>\u001b[0m in \u001b[0;36m<listcomp>\u001b[0;34m(.0)\u001b[0m\n\u001b[0;32m----> 1\u001b[0;31m \u001b[0;34m[\u001b[0m\u001b[0mtkn\u001b[0m \u001b[0;32mfor\u001b[0m \u001b[0mtkn\u001b[0m \u001b[0;32min\u001b[0m \u001b[0mt\u001b[0m\u001b[0;34m.\u001b[0m\u001b[0mtokenize\u001b[0m\u001b[0;34m(\u001b[0m\u001b[0ms2\u001b[0m\u001b[0;34m)\u001b[0m\u001b[0;34m]\u001b[0m\u001b[0;34m\u001b[0m\u001b[0;34m\u001b[0m\u001b[0m\n\u001b[0m",
      "\u001b[0;32m/opt/anaconda3/lib/python3.8/site-packages/janome/tokenizer.py\u001b[0m in \u001b[0;36m__tokenize_stream\u001b[0;34m(self, text, wakati, baseform_unk, dotfile)\u001b[0m\n\u001b[1;32m    220\u001b[0m \u001b[0;34m\u001b[0m\u001b[0m\n\u001b[1;32m    221\u001b[0m     \u001b[0;32mdef\u001b[0m \u001b[0m__tokenize_stream\u001b[0m\u001b[0;34m(\u001b[0m\u001b[0mself\u001b[0m\u001b[0;34m,\u001b[0m \u001b[0mtext\u001b[0m\u001b[0;34m,\u001b[0m \u001b[0mwakati\u001b[0m\u001b[0;34m,\u001b[0m \u001b[0mbaseform_unk\u001b[0m\u001b[0;34m,\u001b[0m \u001b[0mdotfile\u001b[0m\u001b[0;34m)\u001b[0m\u001b[0;34m:\u001b[0m\u001b[0;34m\u001b[0m\u001b[0;34m\u001b[0m\u001b[0m\n\u001b[0;32m--> 222\u001b[0;31m         \u001b[0mtext\u001b[0m \u001b[0;34m=\u001b[0m \u001b[0mtext\u001b[0m\u001b[0;34m.\u001b[0m\u001b[0mstrip\u001b[0m\u001b[0;34m(\u001b[0m\u001b[0;34m)\u001b[0m\u001b[0;34m\u001b[0m\u001b[0;34m\u001b[0m\u001b[0m\n\u001b[0m\u001b[1;32m    223\u001b[0m         \u001b[0mtext_length\u001b[0m \u001b[0;34m=\u001b[0m \u001b[0mlen\u001b[0m\u001b[0;34m(\u001b[0m\u001b[0mtext\u001b[0m\u001b[0;34m)\u001b[0m\u001b[0;34m\u001b[0m\u001b[0;34m\u001b[0m\u001b[0m\n\u001b[1;32m    224\u001b[0m         \u001b[0mprocessed\u001b[0m \u001b[0;34m=\u001b[0m \u001b[0;36m0\u001b[0m\u001b[0;34m\u001b[0m\u001b[0;34m\u001b[0m\u001b[0m\n",
      "\u001b[0;31mAttributeError\u001b[0m: 'float' object has no attribute 'strip'"
     ]
    }
   ],
   "source": [
    "[tkn for tkn in t.tokenize(s2)]    # Error if float, whichi is nan, is passed"
   ]
  },
  {
   "cell_type": "code",
   "execution_count": 19,
   "id": "3570be66",
   "metadata": {},
   "outputs": [
    {
     "data": {
      "text/plain": [
       "[]"
      ]
     },
     "execution_count": 19,
     "metadata": {},
     "output_type": "execute_result"
    }
   ],
   "source": [
    "[tkn for tkn in t.tokenize('')]"
   ]
  },
  {
   "cell_type": "code",
   "execution_count": 24,
   "id": "5506e103",
   "metadata": {
    "scrolled": false
   },
   "outputs": [
    {
     "data": {
      "text/plain": [
       "0     カワイイ、、！英語だけど写真だけで満足できる内容でした。シンメトリー、衣装、色彩などウェスア...\n",
       "1                   一般的な書店に売っていないので助かります。今後も利用したいと思います。\n",
       "2                                                      \n",
       "3     映画だけじゃわからないことが、この本を読むとわかります。（当たり前ですが）でも、とにかくこの...\n",
       "4     悪党マラークがしたかったことがあまりにもショボすぎてサスペンス、ミステリー小説として、オチが...\n",
       "5     Micro Robert の1971版を長く使用していたので、使い慣れていたRobertでし...\n",
       "6     久しぶりに使いました。絵の表情がとても好きだし、レビューにあったような、変な臭いや汚いとかな...\n",
       "7                       汚れもなく、綺麗でした。また、速やかに発送していただきました。\n",
       "8                        この本は、非常に良好な謎の本です。すぐに読まれるべきである！\n",
       "9                    今買うのはちょっと遅いのですが、DGさんの設定が面白くて大好きです。\n",
       "10    英語初心者には解説も英語なので理解するのにとても時間がかかります。それよりは日本語で書かれて...\n",
       "11    値段も少し高めだが、中身は充実していると思う。まずは普通の公式本をしっかり解いてからなのです...\n",
       "12                                                     \n",
       "13    内容などは期待通りのものでしたが、破れているページや、折れ曲がっているページがありました。よ...\n",
       "14                                                     \n",
       "15                    字が小さすぎて、読みにくいです。フォントも読みにくいと思いました。\n",
       "16    このタイプの本は山ほどあるけど、CDの曲もかっこいいし難易度も初心者には良いと思う。イヤホン...\n",
       "17                   分かりやすく丁寧に英語で書いてあるので、とても理解しやすかったです！\n",
       "18                                                     \n",
       "19    ハリーポッターシリーズのファンで、映画の中でこの物語が登場していて、原語でよんでみたいと思い...\n",
       "20    頑張ってでも英語版で読むこと勧めます。翻訳版は、意訳が多いです。ハードカバーの本書は、外に更...\n",
       "21            知らず知らず、子供達が覚えて・・・それも楽しそうに発話するので、有難い絵本です！！\n",
       "22                  リズムがあって、この本大好きです！！ 子供達も大喜びに違いありません。\n",
       "23    表記通りの状態で、表面の傷もあまり目立たなかったです。とてもよい買い物が出来ました(﹡ˆᴗˆ...\n",
       "24     綺麗な商品で、安く買うことが出来たのでよかったです！解説も全て英語なので、とても勉強になります。\n",
       "25    『ピアノ・レッスン』には、海底に眠る死者の回想という話が、裏に隠されていたが（こっちが本当？...\n",
       "26    最初は興味なさげだったけど、YouTubeで音楽聴かせたら大好きになりました。朗読しても歌っ...\n",
       "27                      買ってまだ全部はやっていないですが、頑張ってやろうと思います。\n",
       "28                                                     \n",
       "29                                                     \n",
       "30    沢山の方が高いレビューされているとおり英語を教える人にとっては、日本語の文法教材より理解しやすい.\n",
       "31    ギター製作、未経験者では、英語が理解できないと、難しいかも。経験者なら、写真が多く、理解しや...\n",
       "32    感謝ワーク効きますよ！今まで起こらなかった変化が起こっています。習慣にすると、落ち込んだ時に...\n",
       "33    パルパティーンが欲しくて買った。本はページ数が本の厚さの半分しかなかったが、内容は面白かった...\n",
       "34    本当に自分の部屋から撮影者がいる地点に瞬間移動してしまったかのような圧倒的な臨場感。また地球...\n",
       "35    どんな話なんだろうと思って購入した所、面白く読めた。また、本の売り上げが、世界の貧しい人々に...\n",
       "36               フランスの作家さんの作品？でしょうか？とても素敵で、子供も大人も楽しめます。\n",
       "37    説明？なにもかもが入ってます、はい。とりあえずOK。ご自分でも傑作に挙げるんでは…カセットも...\n",
       "38                      権力の象徴、象形。初期です。急過ぎず、焦らず等。70年代〜とか\n",
       "39    70年代の冷戦の雰囲気がよくでていました。子供のころウィーンにいた時分を思い出しました。東側...\n",
       "40                      彼女へのプレゼントでしたが相当喜んでくれました。(*^◯^*)\n",
       "41    イギリス在住の友人の勧めで購入しました。初心者でも学習しやすい構成になっていて購入して良かっ...\n",
       "42    数ページに鉛筆で書き込み、マークがあるだけで、大変綺麗でした。日本語学習者に教えるのに使いま...\n",
       "43    ほんわかした日常。強い絆と愛情たっぷりの日々。おばあちゃんとフクマル君はいつも仲良し。そんな...\n",
       "44    本の内容自体はとても素晴らしく、オールカラーだから綺麗でウットリします。ですが、保存状態が悪...\n",
       "45    句動詞の勉強の為に購入しました。以前English Phrasal Verbs in Use...\n",
       "46                   面白いＳＦのストーリー、そして素晴らしい翻訳！手に入れる必要がある！\n",
       "47    イギリス大学院留学中、大変世話になりました。ELTのいろいろなジャンルの話が載っている入門書...\n",
       "48    Amazonで注文したのですが、何ヵ月も待たされて、キャンセル。マーケットプレイスで購入しま...\n",
       "49    大天使ミカエルのサポートを受け取るのに、とても役立ちます。大天使ミカエルは、パワフルなネガテ...\n",
       "Name: review_body2, dtype: object"
      ]
     },
     "execution_count": 24,
     "metadata": {},
     "output_type": "execute_result"
    }
   ],
   "source": [
    "df['review_body2'].fillna('')"
   ]
  },
  {
   "cell_type": "code",
   "execution_count": null,
   "id": "7bfc2bab",
   "metadata": {},
   "outputs": [],
   "source": []
  }
 ],
 "metadata": {
  "kernelspec": {
   "display_name": "Python 3",
   "language": "python",
   "name": "python3"
  },
  "language_info": {
   "codemirror_mode": {
    "name": "ipython",
    "version": 3
   },
   "file_extension": ".py",
   "mimetype": "text/x-python",
   "name": "python",
   "nbconvert_exporter": "python",
   "pygments_lexer": "ipython3",
   "version": "3.8.3"
  }
 },
 "nbformat": 4,
 "nbformat_minor": 5
}
